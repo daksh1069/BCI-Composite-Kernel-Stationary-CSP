{
 "cells": [
  {
   "cell_type": "markdown",
   "id": "270f6552",
   "metadata": {},
   "source": [
    "# Importing Libraries"
   ]
  },
  {
   "cell_type": "code",
   "execution_count": 1,
   "id": "45bf988c",
   "metadata": {},
   "outputs": [],
   "source": [
    "import numpy as np\n",
    "import pandas as pd\n",
    "import scipy.io\n",
    "from sklearn import svm, pipeline, base, metrics\n",
    "from sklearn.model_selection import train_test_split\n",
    "from sklearn.metrics import accuracy_score\n",
    "from sklearn.metrics.pairwise import rbf_kernel\n",
    "import functools\n",
    "import os.path, zipfile\n",
    "import matplotlib.pyplot as plt\n",
    "import warnings\n",
    "from scipy import signal\n",
    "import ImportantModules\n",
    "from libsvm import commonutil as cu\n",
    "from libsvm import svm as lsvm\n",
    "from libsvm import svmutil "
   ]
  },
  {
   "cell_type": "markdown",
   "id": "e73155d5",
   "metadata": {},
   "source": [
    "# ChanVar Class"
   ]
  },
  {
   "cell_type": "code",
   "execution_count": 2,
   "id": "9c260cb0",
   "metadata": {},
   "outputs": [],
   "source": [
    "class ChanVar(base.BaseEstimator, base.TransformerMixin):\n",
    "    def fit( X, y):return X,y\n",
    "    def transform(X):\n",
    "        return np.var(X, axis=1) "
   ]
  },
  {
   "cell_type": "markdown",
   "id": "0d6add9d",
   "metadata": {},
   "source": [
    "# Loading DataSet"
   ]
  },
  {
   "cell_type": "code",
   "execution_count": 3,
   "id": "8c584b01",
   "metadata": {},
   "outputs": [],
   "source": [
    "# Loading DataSet\n",
    "\n",
    "# Read DataSet BCI Competition III, DataSet IVa - Training\n",
    "sub1_100hz_training = scipy.io.loadmat(r\"C:\\Users\\Daksh kumar\\BCI CodeBase\\Relevant DataSet\\Competition III\\4A\\100 Hz\\MATLAB\\sub1\\100Hz\\data_set_IVa_aa.mat\", struct_as_record=True)\n",
    "sub2_100hz_training = scipy.io.loadmat(r\"C:\\Users\\Daksh kumar\\BCI CodeBase\\Relevant DataSet\\Competition III\\4A\\100 Hz\\MATLAB\\sub2\\100Hz\\data_set_IVa_al.mat\", struct_as_record=True)\n",
    "sub3_100hz_training = scipy.io.loadmat(r\"C:\\Users\\Daksh kumar\\BCI CodeBase\\Relevant DataSet\\Competition III\\4A\\100 Hz\\MATLAB\\sub3\\100Hz\\data_set_IVa_av.mat\", struct_as_record=True)\n",
    "sub4_100hz_training = scipy.io.loadmat(r\"C:\\Users\\Daksh kumar\\BCI CodeBase\\Relevant DataSet\\Competition III\\4A\\100 Hz\\MATLAB\\sub4\\100Hz\\data_set_IVa_aw.mat\", struct_as_record=True)\n",
    "sub5_100hz_training = scipy.io.loadmat(r\"C:\\Users\\Daksh kumar\\BCI CodeBase\\Relevant DataSet\\Competition III\\4A\\100 Hz\\MATLAB\\sub5\\100Hz\\data_set_IVa_ay.mat\", struct_as_record=True)\n",
    "\n",
    "\n",
    "# Read DataSet BCI Competition III, DataSet IVa - True Label\n",
    "sub1_100hz_true_label = scipy.io.loadmat(r\"C:\\Users\\Daksh kumar\\BCI CodeBase\\Relevant DataSet\\Competition III\\4A\\True Labels\\true_labels_aa.mat\", struct_as_record=True)\n",
    "sub2_100hz_true_label = scipy.io.loadmat(r\"C:\\Users\\Daksh kumar\\BCI CodeBase\\Relevant DataSet\\Competition III\\4A\\True Labels\\true_labels_al.mat\", struct_as_record=True)\n",
    "sub3_100hz_true_label = scipy.io.loadmat(r\"C:\\Users\\Daksh kumar\\BCI CodeBase\\Relevant DataSet\\Competition III\\4A\\True Labels\\true_labels_av.mat\", struct_as_record=True)\n",
    "sub4_100hz_true_label = scipy.io.loadmat(r\"C:\\Users\\Daksh kumar\\BCI CodeBase\\Relevant DataSet\\Competition III\\4A\\True Labels\\true_labels_aw.mat\", struct_as_record=True)\n",
    "sub5_100hz_true_label = scipy.io.loadmat(r\"C:\\Users\\Daksh kumar\\BCI CodeBase\\Relevant DataSet\\Competition III\\4A\\True Labels\\true_labels_ay.mat\", struct_as_record=True)\n"
   ]
  },
  {
   "cell_type": "markdown",
   "id": "4ceb60d3",
   "metadata": {},
   "source": [
    " Exctracting Important Information as Global Variables"
   ]
  },
  {
   "cell_type": "code",
   "execution_count": 4,
   "id": "b4464894",
   "metadata": {},
   "outputs": [],
   "source": [
    "# SciPy.io.loadmat does not deal well with Matlab structures, resulting in lots of\n",
    "# extra dimensions in the arrays. This makes the code a bit more cluttered\n",
    "\n",
    "\n",
    "m = sub1_100hz_training\n",
    "\n",
    "\n",
    "\n",
    "sample_rate = m['nfo']['fs'][0][0][0][0]\n",
    "#EEG = m['cnt'].T\n",
    "#nchannels_yt, nsamples_yt = EEG.shape\n",
    "\n",
    "#channel_names = [s[0] for s in m['nfo']['clab'][0][0][0]]\n",
    "event_onsets = m['mrk'][0][0][0]\n",
    "event_codes = m['mrk'][0][0][1]\n",
    "#labels = np.zeros((1, nsamples), int)\n",
    "#labels[0, event_onsets] = event_codes\n",
    "\n",
    "cl_lab = [s[0] for s in m['mrk']['className'][0][0][0]]\n",
    "cl1 = cl_lab[0]\n",
    "cl2 = cl_lab[1]\n",
    "nclasses = len(cl_lab)\n",
    "nevents = len(event_onsets)"
   ]
  },
  {
   "cell_type": "code",
   "execution_count": 5,
   "id": "0bb29619",
   "metadata": {},
   "outputs": [],
   "source": [
    "all_regions = [1,2,3,4,5]\n",
    "#all_regions.remove(5)\n",
    "#all_regions\n",
    "#for i in range(0,len(all_regions)):\n",
    "#    print(i)\n",
    "#    print(all_regions[i])"
   ]
  },
  {
   "cell_type": "markdown",
   "id": "0fcb8d4f",
   "metadata": {},
   "source": [
    "Integrating Function - RFE"
   ]
  },
  {
   "cell_type": "code",
   "execution_count": 6,
   "id": "25ccd2e9",
   "metadata": {},
   "outputs": [],
   "source": [
    "def Integration_CSP(all_regions):\n",
    "    \n",
    "    # Stopping Condition\n",
    "    if (len(all_regions)<1):\n",
    "        return \"No Regions Remaining\"\n",
    "    \n",
    "    # Divide Data\n",
    "    \n",
    "    d = ImportantModules.load_mat(sub1_100hz_training,sub1_100hz_true_label,None)\n",
    "    # Extract Trials\n",
    "    \n",
    "    trials = Extract_trials(d,all_regions)\n",
    "    # Apply BPF to Extracted Trials\n",
    "    \n",
    "    trials_filt = BPF(trials,all_regions)\n",
    "    # Apply CSP to Filtered Data\n",
    "    \n",
    "    CSP = Apply_CSP(trials_filt,all_regions,d)\n",
    "    # Combine Data from cl1, cl2 to 1 Variable\n",
    "    \n",
    "    Combined_CSP = Combine_Data(CSP,all_regions)\n",
    "    # Apply ChanVar to Training, Testing Data\n",
    "    \n",
    "    CSPVar = chanvar(Combined_CSP,all_regions)\n",
    "    # Create X Data\n",
    "    \n",
    "    X_CSP,X_CSP_All = Create_X_Data(CSPVar,all_regions)\n",
    "    # Create Y Label\n",
    "    \n",
    "    y = Create_Y_Label(trials_filt,all_regions)\n",
    "    # Classifier and Splitting Data using Train Test Split\n",
    "    \n",
    "    print(\"Composite Kernel - Results\")\n",
    "    model_all,X_train_all,X_test_all,y_train,y_test = SVMClassifier_all(X_CSP_All,y,all_regions)\n",
    "    SVMPredict_all(model_all,all_regions,X_test_all,y_test)\n",
    "    # Classifier and Splitting Data using Train Test Split\n",
    "    \n",
    "    model,X_train,X_test,y_train,y_test = SVMClassifier(X_CSP,y,all_regions)\n",
    "    # Predicting Accuracy and other metrics\n",
    "    \n",
    "    SVMPredict(model,all_regions,X_test,y_test)\n",
    "    # Kernel Calculator\n",
    "    \n",
    "    Kernel = Kernel_Calculator(X_train,all_regions)\n",
    "    # Quadratic Norm Calculator\n",
    "    \n",
    "    Q_sorted = Quadratic_Norm_Calculator(Kernel,model,all_regions)\n",
    "    # RFE\n",
    "    print(\"Regions_Remaining\")\n",
    "    print(all_regions)\n",
    "    # Another Stopping Condition\n",
    "    if (len(all_regions)==1):\n",
    "        print(\"Only 1 Region Remaining \" + str(all_regions[0]))\n",
    "        return True\n",
    "    all_regions = RFE(Q_sorted,all_regions)\n",
    "    # Recursion\n",
    "    Integration_CSP(all_regions)"
   ]
  },
  {
   "cell_type": "code",
   "execution_count": 7,
   "id": "a4fba0ee",
   "metadata": {},
   "outputs": [],
   "source": [
    "def Extract_trials(d,all_regions):\n",
    "    trials = dict()\n",
    "    for i in range(0,len(all_regions)):\n",
    "        trials['Region' + str(all_regions[i])] = ImportantModules.ExtractTrial(d['Region' + str(all_regions[i])]['X'],event_onsets,sample_rate,cl_lab,event_codes)\n",
    "    return trials\n",
    "    "
   ]
  },
  {
   "cell_type": "code",
   "execution_count": 8,
   "id": "c78ef9ef",
   "metadata": {},
   "outputs": [],
   "source": [
    "def BPF(trials,all_regions):\n",
    "    trials_filt = dict()\n",
    "    for i in range(0,len(all_regions)):\n",
    "        trials_filt['Region' + str(all_regions[i])] = {cl1: ImportantModules.bandpass(trials['Region' + str(all_regions[i])][cl1], 5, 20, sample_rate),\n",
    "               cl2: ImportantModules.bandpass(trials['Region' + str(all_regions[i])][cl2], 5, 20, sample_rate)}\n",
    "    return trials_filt"
   ]
  },
  {
   "cell_type": "code",
   "execution_count": 9,
   "id": "1e7ae844",
   "metadata": {},
   "outputs": [],
   "source": [
    "def Apply_CSP(trials_filt,all_regions,d):\n",
    "    W = dict()\n",
    "    for i in range(0,len(all_regions)):\n",
    "        W[str(all_regions[i])] = ImportantModules.csp(trials_filt['Region' + str(all_regions[i])][cl1],trials_filt['Region' + str(all_regions[i])][cl2])\n",
    "    CSP = dict()\n",
    "    for i in range(0,len(all_regions)):\n",
    "        CSP['Region' + str(all_regions[i])] = {cl1: ImportantModules.apply_mix(W[str(all_regions[i])], trials_filt['Region' + str(all_regions[i])][cl1],np.array(d['Region'+str(all_regions[i])]['X'])),\n",
    "              cl2: ImportantModules.apply_mix(W[str(all_regions[i])], trials_filt['Region' + str(all_regions[i])][cl2],np.array(d['Region'+str(all_regions[i])]['X']))}\n",
    "    return CSP"
   ]
  },
  {
   "cell_type": "code",
   "execution_count": 10,
   "id": "1686b6a3",
   "metadata": {},
   "outputs": [],
   "source": [
    "def Combine_Data(CSP,all_regions):\n",
    "    Combined_CSP = dict()\n",
    "    for i in range(0,len(all_regions)):\n",
    "        Combined_CSP['Region' + str(all_regions[i])] = np.dstack((CSP['Region' + str(all_regions[i])][cl1],CSP['Region' + str(all_regions[i])][cl2]))\n",
    "    return Combined_CSP"
   ]
  },
  {
   "cell_type": "code",
   "execution_count": 11,
   "id": "182dbe01",
   "metadata": {},
   "outputs": [],
   "source": [
    "def chanvar(Combined_CSP,all_regions):\n",
    "    CSPVar = dict()\n",
    "    for i in range(0,len(all_regions)):\n",
    "        CSPVar['Region' + str(all_regions[i])] = ChanVar.transform(Combined_CSP['Region' + str(all_regions[i])])\n",
    "    return CSPVar"
   ]
  },
  {
   "cell_type": "code",
   "execution_count": 12,
   "id": "81e85565",
   "metadata": {},
   "outputs": [],
   "source": [
    "def Create_X_Data(CSPVar,all_regions):\n",
    "    X_CSP = dict()\n",
    "    for i in range(0,len(all_regions)):\n",
    "        X_CSP['Region' + str(all_regions[i])] = CSPVar['Region' + str(all_regions[i])].T\n",
    "    #temp = np.empty((X_CSP['Region' + str(all_regions[i])].shape[0],118) )\n",
    "    #print(temp.shape)\n",
    "    X_CSP_all = np.hstack((X_CSP['Region' + str(all_regions[i])]) for i in range(0,len(all_regions)))\n",
    "    #X_CSP_all\n",
    "    print(X_CSP_all.shape,X_CSP_all)\n",
    "    return X_CSP,X_CSP_all"
   ]
  },
  {
   "cell_type": "code",
   "execution_count": 13,
   "id": "a8e29b87",
   "metadata": {},
   "outputs": [],
   "source": [
    "def Create_Y_Label(trials_filt,all_regions):\n",
    "    y_1 = np.zeros(trials_filt['Region1'][cl1].shape[2])\n",
    "    y_1.fill(1)\n",
    "    y_2 = np.zeros(trials_filt['Region1'][cl2].shape[2])\n",
    "    y_2.fill(-1)\n",
    "    y = np.hstack((y_1,y_2))\n",
    "    #train_region1_combT = np.transpose(train_region1_comb,(2,1,0))\n",
    "    print(y.shape)\n",
    "    return y"
   ]
  },
  {
   "cell_type": "code",
   "execution_count": 14,
   "id": "cd551980",
   "metadata": {},
   "outputs": [],
   "source": [
    "def SVMClassifier(X_CSP,y,all_regions):\n",
    "    X_train = dict()\n",
    "    X_test = dict()\n",
    "    y_train = dict()\n",
    "    y_test = dict()\n",
    "    for i in range(0,len(all_regions)):\n",
    "        X_train['Region' + str(all_regions[i])],X_test['Region' + str(all_regions[i])],y_train,y_test = train_test_split(X_CSP['Region' + str(all_regions[i])],y,test_size=0.33,random_state= 42)\n",
    "    \n",
    "    model = dict()\n",
    "    for i in range(0,len(all_regions)):\n",
    "        model['Region' + str(all_regions[i])] = svm.SVC(kernel='rbf',gamma=1,shrinking=False)\n",
    "        model['Region' + str(all_regions[i])].fit(X_train['Region' + str(all_regions[i])],y_train)\n",
    "    return model,X_train,X_test,y_train,y_test"
   ]
  },
  {
   "cell_type": "code",
   "execution_count": 15,
   "id": "7f85a9f0",
   "metadata": {},
   "outputs": [],
   "source": [
    "def SVMClassifier_all(X_CSP_all,y,all_regions):\n",
    "    \n",
    "    X_train,X_test,y_train,y_test = train_test_split(X_CSP_all,y,test_size=0.33,random_state= 42)\n",
    "    model = svm.SVC(kernel='rbf',gamma=1,shrinking=False)\n",
    "    model.fit(X_train,y_train)\n",
    "    return model,X_train,X_test,y_train,y_test"
   ]
  },
  {
   "cell_type": "code",
   "execution_count": 16,
   "id": "10a92a76",
   "metadata": {},
   "outputs": [],
   "source": [
    "def SVMPredict_all(model,all_regions,X_test,y_test):\n",
    "    y_pred = model.predict(X_test)\n",
    "    #print('Region' + str(all_regions[i]))\n",
    "    print (metrics.classification_report(y_test, y_pred))\n",
    "    print(accuracy_score(y_test,y_pred))"
   ]
  },
  {
   "cell_type": "code",
   "execution_count": 17,
   "id": "501466ff",
   "metadata": {},
   "outputs": [],
   "source": [
    "def SVMPredict(model,all_regions,X_test,y_test):\n",
    "    for i in range(0,len(all_regions)):\n",
    "        y_pred = model['Region' + str(all_regions[i])].predict(X_test['Region' + str(all_regions[i])])\n",
    "        print('Region' + str(all_regions[i]))\n",
    "        print (metrics.classification_report(y_test, y_pred))\n",
    "        print(accuracy_score(y_test,y_pred))"
   ]
  },
  {
   "cell_type": "code",
   "execution_count": 18,
   "id": "011073f6",
   "metadata": {},
   "outputs": [],
   "source": [
    "def Kernel_Calculator(X_train,all_regions):\n",
    "    Kernel = dict()\n",
    "    for i in range(0,len(all_regions)):\n",
    "        Kernel['Region' + str(all_regions[i])] = rbf_kernel(X_train['Region' + str(all_regions[i])].T)\n",
    "    return Kernel"
   ]
  },
  {
   "cell_type": "code",
   "execution_count": 19,
   "id": "991441ab",
   "metadata": {},
   "outputs": [],
   "source": [
    "def Quadratic_Norm_Calculator(Kernel,model,all_regions):\n",
    "    alpha = dict()\n",
    "    for i in range(0,len(all_regions)):\n",
    "        alpha['Region' + str(all_regions[i])] = np.mean(model['Region' + str(all_regions[i])].support_vectors_,axis = 0)\n",
    "        alpha['Region' + str(all_regions[i])].resize((1,Kernel['Region' + str(all_regions[i])].shape[1]))\n",
    "        print(alpha['Region' + str(all_regions[i])].shape)\n",
    "    Q = dict()\n",
    "    for i in range(0,len(all_regions)):\n",
    "        Q['Region' + str(all_regions[i])] = np.dot(alpha['Region' + str(all_regions[i])],(np.dot(Kernel['Region' + str(all_regions[i])],alpha['Region' + str(all_regions[i])].T)))\n",
    "    \n",
    "    Q_sorted = {k: v for k, v in sorted(Q.items(), key=lambda item: item[1],reverse=True)}\n",
    "    return Q_sorted"
   ]
  },
  {
   "cell_type": "code",
   "execution_count": 20,
   "id": "cf61f768",
   "metadata": {},
   "outputs": [],
   "source": [
    "def RFE(Q_sorted,all_regions):\n",
    "    print(all_regions)\n",
    "    x = Q_sorted.popitem()\n",
    "    print(\"Removing\")\n",
    "    print(x[0][-1])\n",
    "    all_regions.remove(int(x[0][-1]))\n",
    "    return all_regions"
   ]
  },
  {
   "cell_type": "code",
   "execution_count": null,
   "id": "ab447507",
   "metadata": {},
   "outputs": [],
   "source": []
  },
  {
   "cell_type": "code",
   "execution_count": 21,
   "id": "10a7fddc",
   "metadata": {},
   "outputs": [],
   "source": [
    "# Driver Function"
   ]
  },
  {
   "cell_type": "code",
   "execution_count": 22,
   "id": "51d5b60a",
   "metadata": {
    "scrolled": true
   },
   "outputs": [
    {
     "ename": "KeyboardInterrupt",
     "evalue": "",
     "output_type": "error",
     "traceback": [
      "\u001b[1;31m---------------------------------------------------------------------------\u001b[0m",
      "\u001b[1;31mKeyboardInterrupt\u001b[0m                         Traceback (most recent call last)",
      "\u001b[1;32mC:\\Users\\DAKSHK~1\\AppData\\Local\\Temp/ipykernel_2480/523365366.py\u001b[0m in \u001b[0;36m<module>\u001b[1;34m\u001b[0m\n\u001b[0;32m      1\u001b[0m \u001b[0mall_regions\u001b[0m \u001b[1;33m=\u001b[0m \u001b[1;33m[\u001b[0m\u001b[1;36m1\u001b[0m\u001b[1;33m,\u001b[0m\u001b[1;36m2\u001b[0m\u001b[1;33m,\u001b[0m\u001b[1;36m3\u001b[0m\u001b[1;33m,\u001b[0m\u001b[1;36m4\u001b[0m\u001b[1;33m,\u001b[0m\u001b[1;36m5\u001b[0m\u001b[1;33m]\u001b[0m\u001b[1;33m\u001b[0m\u001b[1;33m\u001b[0m\u001b[0m\n\u001b[1;32m----> 2\u001b[1;33m \u001b[0mprint\u001b[0m\u001b[1;33m(\u001b[0m\u001b[0mIntegration_CSP\u001b[0m\u001b[1;33m(\u001b[0m\u001b[0mall_regions\u001b[0m\u001b[1;33m)\u001b[0m\u001b[1;33m)\u001b[0m\u001b[1;33m\u001b[0m\u001b[1;33m\u001b[0m\u001b[0m\n\u001b[0m",
      "\u001b[1;32mC:\\Users\\DAKSHK~1\\AppData\\Local\\Temp/ipykernel_2480/3791969868.py\u001b[0m in \u001b[0;36mIntegration_CSP\u001b[1;34m(all_regions)\u001b[0m\n\u001b[0;32m     10\u001b[0m     \u001b[1;31m# Extract Trials\u001b[0m\u001b[1;33m\u001b[0m\u001b[1;33m\u001b[0m\u001b[0m\n\u001b[0;32m     11\u001b[0m \u001b[1;33m\u001b[0m\u001b[0m\n\u001b[1;32m---> 12\u001b[1;33m     \u001b[0mtrials\u001b[0m \u001b[1;33m=\u001b[0m \u001b[0mExtract_trials\u001b[0m\u001b[1;33m(\u001b[0m\u001b[0md\u001b[0m\u001b[1;33m,\u001b[0m\u001b[0mall_regions\u001b[0m\u001b[1;33m)\u001b[0m\u001b[1;33m\u001b[0m\u001b[1;33m\u001b[0m\u001b[0m\n\u001b[0m\u001b[0;32m     13\u001b[0m     \u001b[1;31m# Apply BPF to Extracted Trials\u001b[0m\u001b[1;33m\u001b[0m\u001b[1;33m\u001b[0m\u001b[0m\n\u001b[0;32m     14\u001b[0m \u001b[1;33m\u001b[0m\u001b[0m\n",
      "\u001b[1;32mC:\\Users\\DAKSHK~1\\AppData\\Local\\Temp/ipykernel_2480/1245042398.py\u001b[0m in \u001b[0;36mExtract_trials\u001b[1;34m(d, all_regions)\u001b[0m\n\u001b[0;32m      2\u001b[0m     \u001b[0mtrials\u001b[0m \u001b[1;33m=\u001b[0m \u001b[0mdict\u001b[0m\u001b[1;33m(\u001b[0m\u001b[1;33m)\u001b[0m\u001b[1;33m\u001b[0m\u001b[1;33m\u001b[0m\u001b[0m\n\u001b[0;32m      3\u001b[0m     \u001b[1;32mfor\u001b[0m \u001b[0mi\u001b[0m \u001b[1;32min\u001b[0m \u001b[0mrange\u001b[0m\u001b[1;33m(\u001b[0m\u001b[1;36m0\u001b[0m\u001b[1;33m,\u001b[0m\u001b[0mlen\u001b[0m\u001b[1;33m(\u001b[0m\u001b[0mall_regions\u001b[0m\u001b[1;33m)\u001b[0m\u001b[1;33m)\u001b[0m\u001b[1;33m:\u001b[0m\u001b[1;33m\u001b[0m\u001b[1;33m\u001b[0m\u001b[0m\n\u001b[1;32m----> 4\u001b[1;33m         \u001b[0mtrials\u001b[0m\u001b[1;33m[\u001b[0m\u001b[1;34m'Region'\u001b[0m \u001b[1;33m+\u001b[0m \u001b[0mstr\u001b[0m\u001b[1;33m(\u001b[0m\u001b[0mall_regions\u001b[0m\u001b[1;33m[\u001b[0m\u001b[0mi\u001b[0m\u001b[1;33m]\u001b[0m\u001b[1;33m)\u001b[0m\u001b[1;33m]\u001b[0m \u001b[1;33m=\u001b[0m \u001b[0mImportantModules\u001b[0m\u001b[1;33m.\u001b[0m\u001b[0mExtractTrial\u001b[0m\u001b[1;33m(\u001b[0m\u001b[0md\u001b[0m\u001b[1;33m[\u001b[0m\u001b[1;34m'Region'\u001b[0m \u001b[1;33m+\u001b[0m \u001b[0mstr\u001b[0m\u001b[1;33m(\u001b[0m\u001b[0mall_regions\u001b[0m\u001b[1;33m[\u001b[0m\u001b[0mi\u001b[0m\u001b[1;33m]\u001b[0m\u001b[1;33m)\u001b[0m\u001b[1;33m]\u001b[0m\u001b[1;33m[\u001b[0m\u001b[1;34m'X'\u001b[0m\u001b[1;33m]\u001b[0m\u001b[1;33m,\u001b[0m\u001b[0mevent_onsets\u001b[0m\u001b[1;33m,\u001b[0m\u001b[0msample_rate\u001b[0m\u001b[1;33m,\u001b[0m\u001b[0mcl_lab\u001b[0m\u001b[1;33m,\u001b[0m\u001b[0mevent_codes\u001b[0m\u001b[1;33m)\u001b[0m\u001b[1;33m\u001b[0m\u001b[1;33m\u001b[0m\u001b[0m\n\u001b[0m\u001b[0;32m      5\u001b[0m     \u001b[1;32mreturn\u001b[0m \u001b[0mtrials\u001b[0m\u001b[1;33m\u001b[0m\u001b[1;33m\u001b[0m\u001b[0m\n\u001b[0;32m      6\u001b[0m \u001b[1;33m\u001b[0m\u001b[0m\n",
      "\u001b[1;32m~\\BCI CodeBase\\14th Jan Working Codebase with Proper Division\\ImportantModules.py\u001b[0m in \u001b[0;36mExtractTrial\u001b[1;34m(X, event_onsets, sample_rate, cl_lab, event_codes)\u001b[0m\n\u001b[0;32m    276\u001b[0m         \u001b[1;31m# Extract each trial\u001b[0m\u001b[1;33m\u001b[0m\u001b[1;33m\u001b[0m\u001b[0m\n\u001b[0;32m    277\u001b[0m         \u001b[1;32mfor\u001b[0m \u001b[0mi\u001b[0m\u001b[1;33m,\u001b[0m \u001b[0monset\u001b[0m \u001b[1;32min\u001b[0m \u001b[0menumerate\u001b[0m\u001b[1;33m(\u001b[0m\u001b[0mcl_onsets\u001b[0m\u001b[1;33m)\u001b[0m\u001b[1;33m:\u001b[0m\u001b[1;33m\u001b[0m\u001b[1;33m\u001b[0m\u001b[0m\n\u001b[1;32m--> 278\u001b[1;33m             \u001b[0mtrials\u001b[0m\u001b[1;33m[\u001b[0m\u001b[0mcl\u001b[0m\u001b[1;33m]\u001b[0m\u001b[1;33m[\u001b[0m\u001b[1;33m:\u001b[0m\u001b[1;33m,\u001b[0m\u001b[1;33m:\u001b[0m\u001b[1;33m,\u001b[0m\u001b[0mi\u001b[0m\u001b[1;33m]\u001b[0m \u001b[1;33m=\u001b[0m \u001b[0mnp\u001b[0m\u001b[1;33m.\u001b[0m\u001b[0marray\u001b[0m\u001b[1;33m(\u001b[0m\u001b[0mX\u001b[0m\u001b[1;33m)\u001b[0m\u001b[1;33m[\u001b[0m\u001b[1;33m:\u001b[0m\u001b[1;33m,\u001b[0m \u001b[0mwin\u001b[0m\u001b[1;33m+\u001b[0m\u001b[0monset\u001b[0m\u001b[1;33m]\u001b[0m\u001b[1;33m\u001b[0m\u001b[1;33m\u001b[0m\u001b[0m\n\u001b[0m\u001b[0;32m    279\u001b[0m     \u001b[0mprint\u001b[0m\u001b[1;33m(\u001b[0m\u001b[0mtrials\u001b[0m\u001b[1;33m[\u001b[0m\u001b[0mcl1\u001b[0m\u001b[1;33m]\u001b[0m\u001b[1;33m.\u001b[0m\u001b[0mshape\u001b[0m\u001b[1;33m,\u001b[0m\u001b[0mtrials\u001b[0m\u001b[1;33m[\u001b[0m\u001b[0mcl2\u001b[0m\u001b[1;33m]\u001b[0m\u001b[1;33m.\u001b[0m\u001b[0mshape\u001b[0m\u001b[1;33m)\u001b[0m\u001b[1;33m\u001b[0m\u001b[1;33m\u001b[0m\u001b[0m\n\u001b[0;32m    280\u001b[0m     \u001b[1;32mreturn\u001b[0m \u001b[0mtrials\u001b[0m\u001b[1;33m\u001b[0m\u001b[1;33m\u001b[0m\u001b[0m\n",
      "\u001b[1;31mKeyboardInterrupt\u001b[0m: "
     ]
    }
   ],
   "source": [
    "all_regions = [1,2,3,4,5]\n",
    "print(Integration_CSP(all_regions))"
   ]
  },
  {
   "cell_type": "code",
   "execution_count": null,
   "id": "9c91fc2e",
   "metadata": {},
   "outputs": [],
   "source": []
  },
  {
   "cell_type": "code",
   "execution_count": null,
   "id": "ad4d340f",
   "metadata": {},
   "outputs": [],
   "source": []
  },
  {
   "cell_type": "code",
   "execution_count": null,
   "id": "b87ae546",
   "metadata": {},
   "outputs": [],
   "source": [
    "# For SCSP \n",
    "def Integration_SCSP(all_regions,mu,k):\n",
    "    \n",
    "    # Stopping Condition\n",
    "    if (len(all_regions)<1):\n",
    "        return \"No Regions Remaining\"\n",
    "    \n",
    "    # Divide Data\n",
    "    \n",
    "    d = ImportantModules.load_mat(sub1_100hz_training,sub1_100hz_true_label,None)\n",
    "    # Extract Trials\n",
    "    \n",
    "    trials = Extract_trials(d,all_regions)\n",
    "    # Apply BPF to Extracted Trials\n",
    "    \n",
    "    trials_filt = BPF(trials,all_regions)\n",
    "    # Apply SCSP to Filtered Data\n",
    "    \n",
    "    SCSP = Apply_SCSP(trials_filt,all_regions,d,mu,k)\n",
    "    # Combine Data from cl1, cl2 to 1 Variable\n",
    "    \n",
    "    Combined_SCSP = Combine_Data(SCSP,all_regions)\n",
    "    # Apply ChanVar to Training, Testing Data\n",
    "    \n",
    "    SCSPVar = chanvar(Combined_SCSP,all_regions)\n",
    "    # Create X Data\n",
    "    \n",
    "    X_SCSP,X_SCSP_All = Create_X_Data(SCSPVar,all_regions)\n",
    "    # Create Y Label\n",
    "    \n",
    "    y = Create_Y_Label(trials_filt,all_regions)\n",
    "    # Classifier and Splitting Data using Train Test Split\n",
    "    \n",
    "    model,X_train,X_test,y_train,y_test = SVMClassifier(X_SCSP,y,all_regions)\n",
    "    print(\"Composite Kernel - Results\")\n",
    "    model_all,X_train_all,X_test_all,y_train,y_test = SVMClassifier_all(X_SCSP_All,y,all_regions)\n",
    "    SVMPredict_all(model_all,all_regions,X_test_all,y_test)\n",
    "    # Predicting Accuracy and other metrics\n",
    "    \n",
    "    print(\"RegionWise Results\")\n",
    "    SVMPredict(model,all_regions,X_test,y_test)\n",
    "    # Kernel Calculator\n",
    "    \n",
    "    Kernel = Kernel_Calculator(X_train,all_regions)\n",
    "    # Quadratic Norm Calculator\n",
    "    \n",
    "    Q_sorted = Quadratic_Norm_Calculator(Kernel,model,all_regions)\n",
    "    # RFE\n",
    "    print(\"Regions_Remaining\")\n",
    "    print(all_regions)\n",
    "    # Another Stopping Condition\n",
    "    \n",
    "    if (len(all_regions)==1):\n",
    "        print(\"Only 1 Region Remaining \" + str(all_regions[0]))\n",
    "        return True\n",
    "    all_regions = RFE(Q_sorted,all_regions)\n",
    "    # Recursion\n",
    "    Integration_SCSP(all_regions,mu,k)"
   ]
  },
  {
   "cell_type": "code",
   "execution_count": null,
   "id": "0ba964da",
   "metadata": {},
   "outputs": [],
   "source": [
    "def Apply_SCSP(trials_filt,all_regions,d,mu,k):\n",
    "    W = dict()\n",
    "    for i in range(0,len(all_regions)):\n",
    "        W[str(all_regions[i])] = ImportantModules.scsp(trials_filt['Region' + str(all_regions[i])][cl1],trials_filt['Region' + str(all_regions[i])][cl2],mu,k)\n",
    "    SCSP = dict()\n",
    "    for i in range(0,len(all_regions)):\n",
    "        SCSP['Region' + str(all_regions[i])] = {cl1: ImportantModules.apply_mix(W[str(all_regions[i])], trials_filt['Region' + str(all_regions[i])][cl1],np.array(d['Region'+str(all_regions[i])]['X'])),\n",
    "              cl2: ImportantModules.apply_mix(W[str(all_regions[i])], trials_filt['Region' + str(all_regions[i])][cl2],np.array(d['Region'+str(all_regions[i])]['X']))}\n",
    "    return SCSP"
   ]
  },
  {
   "cell_type": "code",
   "execution_count": null,
   "id": "1de9e6b7",
   "metadata": {},
   "outputs": [],
   "source": [
    "# Driver Function\n",
    "all_regions = [1,2,3,4,5]\n",
    "mu = 0.8\n",
    "k = 15\n",
    "print(Integration_SCSP(all_regions,mu,k))"
   ]
  },
  {
   "cell_type": "code",
   "execution_count": null,
   "id": "6b1f9a5a",
   "metadata": {},
   "outputs": [],
   "source": []
  },
  {
   "cell_type": "code",
   "execution_count": null,
   "id": "4e534be7",
   "metadata": {},
   "outputs": [],
   "source": []
  },
  {
   "cell_type": "code",
   "execution_count": null,
   "id": "01ae65d5",
   "metadata": {},
   "outputs": [],
   "source": []
  },
  {
   "cell_type": "code",
   "execution_count": null,
   "id": "6179b1b3",
   "metadata": {},
   "outputs": [],
   "source": []
  },
  {
   "cell_type": "code",
   "execution_count": null,
   "id": "4076a9cc",
   "metadata": {},
   "outputs": [],
   "source": []
  }
 ],
 "metadata": {
  "kernelspec": {
   "display_name": "Python 3 (ipykernel)",
   "language": "python",
   "name": "python3"
  },
  "language_info": {
   "codemirror_mode": {
    "name": "ipython",
    "version": 3
   },
   "file_extension": ".py",
   "mimetype": "text/x-python",
   "name": "python",
   "nbconvert_exporter": "python",
   "pygments_lexer": "ipython3",
   "version": "3.10.1"
  }
 },
 "nbformat": 4,
 "nbformat_minor": 5
}
